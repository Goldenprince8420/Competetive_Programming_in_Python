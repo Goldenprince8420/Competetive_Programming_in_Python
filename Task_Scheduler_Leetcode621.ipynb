{
 "cells": [
  {
   "cell_type": "markdown",
   "id": "65c304f8-e42f-4b00-bbe8-a1a5138c3872",
   "metadata": {},
   "source": [
    "# *Task Scheduler* "
   ]
  },
  {
   "cell_type": "code",
   "execution_count": 31,
   "id": "610ddf15-55bd-4c9a-92e9-1397019b4a16",
   "metadata": {},
   "outputs": [],
   "source": [
    "#Importing the Collections Library\n",
    "\n",
    "import collections\n"
   ]
  },
  {
   "cell_type": "code",
   "execution_count": 32,
   "id": "9c87b7b7-af9a-4a06-bce7-13db4c0c019c",
   "metadata": {},
   "outputs": [],
   "source": [
    "def scheduler(A, n):\n",
    "        A = sorted(A)                                #Sorting the array first\n",
    "        p = collections.Counter(A)                   # Creates a dictionary coontainer for storing the frequencies of each elements\n",
    "        p = list(p.values())                         # The values in the dictionary\n",
    "        max_freq = max(p)                            # Getting the maximum frequency\n",
    "        # count how many letters have max_freq\n",
    "        c = collections.Counter(p)                   #Creating a dictionary for the frequency of each element occurance\n",
    "        max_freq_c = c[max_freq]                     #Getting the data abount the number of element with maximum occurance\n",
    "        sum_freq = sum(p)                            #Total Occurance\n",
    "        return max((n+1) * (max_freq-1)  + c[max_freq], sum_freq)"
   ]
  },
  {
   "cell_type": "code",
   "execution_count": 33,
   "id": "bcc61ed2-cf76-4187-bbab-5f4193ba4d7e",
   "metadata": {},
   "outputs": [
    {
     "data": {
      "text/plain": [
       "8"
      ]
     },
     "execution_count": 33,
     "metadata": {},
     "output_type": "execute_result"
    }
   ],
   "source": [
    "A = [\"A\", \"B\", \"A\", \"B\", \"B\", \"A\"]\n",
    "t = scheduler(A, 2)\n",
    "t"
   ]
  },
  {
   "cell_type": "code",
   "execution_count": null,
   "id": "10bcb5b4-d2c3-4ff2-9ac3-79a81f0db3cb",
   "metadata": {},
   "outputs": [],
   "source": []
  }
 ],
 "metadata": {
  "kernelspec": {
   "display_name": "Python 3",
   "language": "python",
   "name": "python3"
  },
  "language_info": {
   "codemirror_mode": {
    "name": "ipython",
    "version": 3
   },
   "file_extension": ".py",
   "mimetype": "text/x-python",
   "name": "python",
   "nbconvert_exporter": "python",
   "pygments_lexer": "ipython3",
   "version": "3.8.8"
  }
 },
 "nbformat": 4,
 "nbformat_minor": 5
}
